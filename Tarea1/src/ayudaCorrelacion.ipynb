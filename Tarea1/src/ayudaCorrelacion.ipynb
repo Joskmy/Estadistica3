{
 "cells": [
  {
   "cell_type": "code",
   "execution_count": 1,
   "metadata": {},
   "outputs": [
    {
     "name": "stdout",
     "output_type": "stream",
     "text": [
      "[  0.6   0.7   0.8   0.9   1.    1.1   1.2   1.3   1.5   1.7   1.8   2.\n",
      "   2.1   2.3   2.5   2.8   3.    3.2   3.5   3.8   4.    4.8   5.1   6.2\n",
      "   7.3  10.5  16.8  22.4  44.1 103.5]\n"
     ]
    }
   ],
   "source": [
    "import numpy as np\n",
    "\n",
    "x = np.array([0.6, 0.7, 0.8, 0.9, 1.0, 1.1, 1.2, 1.3, 1.5, 1.7, \n",
    "              1.8, 2.0, 2.1, 2.3, 2.5, 2.8, 3.0, 3.2, 3.5, 3.8, \n",
    "              4.0, 4.8, 5.1, 6.2, 7.3, 10.5, 16.8, 22.4, 44.1, 103.5])\n",
    "\n",
    "y = np.array([0.01, 0.01, 0.04, 0.05, 0.08, 0.08, 0.13, 0.15, 0.22, 0.22, \n",
    "              0.25, 0.28, 0.30, 0.33, 0.35, 0.43, 0.45, 0.47, 0.48, 0.49, \n",
    "              0.50, 0.52, 0.53, 0.58, 0.76, 1.03, 1.23, 2.23, 2.57, 7.18])\n",
    "\n",
    "print(x)\n",
    "\n"
   ]
  },
  {
   "cell_type": "code",
   "execution_count": 26,
   "metadata": {},
   "outputs": [
    {
     "name": "stdout",
     "output_type": "stream",
     "text": [
      "8.75\n",
      "0.7316666666666667\n"
     ]
    }
   ],
   "source": [
    "mean_x = np.mean(x)\n",
    "mean_y = np.mean(y)\n",
    "\n",
    "print(mean_x)\n",
    "print(mean_y)\n",
    "\n"
   ]
  },
  {
   "cell_type": "code",
   "execution_count": 27,
   "metadata": {},
   "outputs": [
    {
     "name": "stdout",
     "output_type": "stream",
     "text": [
      "[-8.15 -8.05 -7.95 -7.85 -7.75 -7.65 -7.55 -7.45 -7.25 -7.05 -6.95 -6.75\n",
      " -6.65 -6.45 -6.25 -5.95 -5.75 -5.55 -5.25 -4.95 -4.75 -3.95 -3.65 -2.55\n",
      " -1.45  1.75  8.05 13.65 35.35 94.75]\n",
      "[-0.72166667 -0.72166667 -0.69166667 -0.68166667 -0.65166667 -0.65166667\n",
      " -0.60166667 -0.58166667 -0.51166667 -0.51166667 -0.48166667 -0.45166667\n",
      " -0.43166667 -0.40166667 -0.38166667 -0.30166667 -0.28166667 -0.26166667\n",
      " -0.25166667 -0.24166667 -0.23166667 -0.21166667 -0.20166667 -0.15166667\n",
      "  0.02833333  0.29833333  0.49833333  1.49833333  1.83833333  6.44833333]\n"
     ]
    }
   ],
   "source": [
    "deviations_x = x - mean_x\n",
    "deviations_y = y - mean_y\n",
    "\n",
    "print(deviations_x)\n",
    "print(deviations_y)\n"
   ]
  },
  {
   "cell_type": "code",
   "execution_count": 34,
   "metadata": {},
   "outputs": [
    {
     "name": "stdout",
     "output_type": "stream",
     "text": [
      "[6.6422500e+01 6.4802500e+01 6.3202500e+01 6.1622500e+01 6.0062500e+01\n",
      " 5.8522500e+01 5.7002500e+01 5.5502500e+01 5.2562500e+01 4.9702500e+01\n",
      " 4.8302500e+01 4.5562500e+01 4.4222500e+01 4.1602500e+01 3.9062500e+01\n",
      " 3.5402500e+01 3.3062500e+01 3.0802500e+01 2.7562500e+01 2.4502500e+01\n",
      " 2.2562500e+01 1.5602500e+01 1.3322500e+01 6.5025000e+00 2.1025000e+00\n",
      " 3.0625000e+00 6.4802500e+01 1.8632250e+02 1.2496225e+03 8.9775625e+03]\n",
      "[5.20802778e-01 5.20802778e-01 4.78402778e-01 4.64669444e-01\n",
      " 4.24669444e-01 4.24669444e-01 3.62002778e-01 3.38336111e-01\n",
      " 2.61802778e-01 2.61802778e-01 2.32002778e-01 2.04002778e-01\n",
      " 1.86336111e-01 1.61336111e-01 1.45669444e-01 9.10027778e-02\n",
      " 7.93361111e-02 6.84694444e-02 6.33361111e-02 5.84027778e-02\n",
      " 5.36694444e-02 4.48027778e-02 4.06694444e-02 2.30027778e-02\n",
      " 8.02777778e-04 8.90027778e-02 2.48336111e-01 2.24500278e+00\n",
      " 3.37946944e+00 4.15810028e+01]\n",
      "11500.955\n",
      "53.05361666666666\n"
     ]
    }
   ],
   "source": [
    "\n",
    "deviations_x2 = (x - mean_x)**2\n",
    "deviations_y2 = (y - mean_y)**2\n",
    "\n",
    "print(deviations_x2)\n",
    "print(deviations_y2)\n",
    "\n",
    "sumx = np.sum(deviations_x2)\n",
    "sumy = np.sum(deviations_y2)\n",
    "\n",
    "print(sumx)\n",
    "print(sumy)"
   ]
  },
  {
   "cell_type": "code",
   "execution_count": 28,
   "metadata": {},
   "outputs": [
    {
     "name": "stdout",
     "output_type": "stream",
     "text": [
      "[ 5.88158333e+00  5.80941667e+00  5.49875000e+00  5.35108333e+00\n",
      "  5.05041667e+00  4.98525000e+00  4.54258333e+00  4.33341667e+00\n",
      "  3.70958333e+00  3.60725000e+00  3.34758333e+00  3.04875000e+00\n",
      "  2.87058333e+00  2.59075000e+00  2.38541667e+00  1.79491667e+00\n",
      "  1.61958333e+00  1.45225000e+00  1.32125000e+00  1.19625000e+00\n",
      "  1.10041667e+00  8.36083333e-01  7.36083333e-01  3.86750000e-01\n",
      " -4.10833333e-02  5.22083333e-01  4.01158333e+00  2.04522500e+01\n",
      "  6.49850833e+01  6.10979583e+02]\n"
     ]
    }
   ],
   "source": [
    "\n",
    "products = deviations_x * deviations_y\n",
    "\n",
    "print(products)"
   ]
  },
  {
   "cell_type": "code",
   "execution_count": 29,
   "metadata": {},
   "outputs": [
    {
     "name": "stdout",
     "output_type": "stream",
     "text": [
      "774.3655000000001\n"
     ]
    }
   ],
   "source": [
    "\n",
    "sum_products = np.sum(products)\n",
    "\n",
    "print(sum_products)"
   ]
  },
  {
   "cell_type": "code",
   "execution_count": 30,
   "metadata": {},
   "outputs": [
    {
     "name": "stdout",
     "output_type": "stream",
     "text": [
      "11500.955\n",
      "53.05361666666666\n"
     ]
    }
   ],
   "source": [
    "\n",
    "sum_squares_x = np.sum(deviations_x**2)\n",
    "sum_squares_y = np.sum(deviations_y**2)\n",
    "\n",
    "print(sum_squares_x)\n",
    "print(sum_squares_y)\n",
    "\n"
   ]
  },
  {
   "cell_type": "code",
   "execution_count": 10,
   "metadata": {},
   "outputs": [
    {
     "name": "stdout",
     "output_type": "stream",
     "text": [
      "[[-0.36514837  0.36514837]\n",
      " [ 1.46059349 -1.46059349]\n",
      " [ 0.73029674 -0.73029674]\n",
      " [ 1.09544512 -1.09544512]\n",
      " [-0.73029674  0.73029674]\n",
      " [-1.46059349  1.46059349]\n",
      " [-1.09544512  1.09544512]\n",
      " [ 0.36514837 -0.36514837]]\n",
      "Matriz:  [[ 1.14285714 -1.14285714]\n",
      " [-1.14285714  1.14285714]]\n",
      "Eigenvalores:  [2.28571429 0.        ]\n",
      "Eigenvectores:  [[ 0.70710678  0.70710678]\n",
      " [-0.70710678  0.70710678]]\n"
     ]
    }
   ],
   "source": [
    "import numpy as np\n",
    "\n",
    "# Definir la matriz\n",
    "X = np.array([\n",
    "    [13, -13],\n",
    "    [18, -18],\n",
    "    [16, -16],\n",
    "    [17, -17],\n",
    "    [12, -12],\n",
    "    [10, -10],\n",
    "    [11, -11],\n",
    "    [15, -15]\n",
    "])\n",
    "\n",
    "# Centralizar la matriz restando la media de cada columna\n",
    "X_mean = X - np.mean(X, axis=0)\n",
    "\n",
    "# Estandarizar la matriz dividiendo por la desviación estándar de cada columna\n",
    "X_std = X_mean / np.std(X_mean, axis=0)\n",
    "\n",
    "print(X_std)\n",
    "\n",
    "# Calcular la matriz de covarianza después de centralizar y estandarizar\n",
    "cov_matrix_std = np.cov(X_std.T)\n",
    "\n",
    "# Calcular los eigenvalores y eigenvectores de la matriz estandarizada\n",
    "eigen_values_std, eigen_vectors_std = np.linalg.eig(cov_matrix_std)\n",
    "\n",
    "# Mostrar resultados\n",
    "print(\"Matriz: \", cov_matrix_std)\n",
    "\n",
    "print(\"Eigenvalores: \", eigen_values_std)\n",
    "print(\"Eigenvectores: \", eigen_vectors_std)\n"
   ]
  }
 ],
 "metadata": {
  "kernelspec": {
   "display_name": "Python 3",
   "language": "python",
   "name": "python3"
  },
  "language_info": {
   "codemirror_mode": {
    "name": "ipython",
    "version": 3
   },
   "file_extension": ".py",
   "mimetype": "text/x-python",
   "name": "python",
   "nbconvert_exporter": "python",
   "pygments_lexer": "ipython3",
   "version": "3.12.4"
  }
 },
 "nbformat": 4,
 "nbformat_minor": 2
}
